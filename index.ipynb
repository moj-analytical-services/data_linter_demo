{
 "cells": [
  {
   "cell_type": "markdown",
   "metadata": {},
   "source": [
    "## Demo of the `data_linter` package"
   ]
  },
  {
   "cell_type": "markdown",
   "metadata": {},
   "source": [
    "In this notebook we demonstrate some uses of our metadata format:\n",
    "- To produce a validation report of a dataset which validates successfully against a metadata schema\n",
    "- To produce a validation report of a dataset which fails to validate\n",
    "- To auto-create a draft metadata schema from an existing dataset"
   ]
  },
  {
   "cell_type": "markdown",
   "metadata": {},
   "source": [
    "## Create validation report for valid data"
   ]
  },
  {
   "cell_type": "code",
   "execution_count": 1,
   "metadata": {},
   "outputs": [],
   "source": [
    "from data_linter.lint import Linter"
   ]
  },
  {
   "cell_type": "markdown",
   "metadata": {},
   "source": [
    "Load in data"
   ]
  },
  {
   "cell_type": "code",
   "execution_count": 2,
   "metadata": {},
   "outputs": [
    {
     "data": {
      "text/html": [
       "<div>\n",
       "<style scoped>\n",
       "    .dataframe tbody tr th:only-of-type {\n",
       "        vertical-align: middle;\n",
       "    }\n",
       "\n",
       "    .dataframe tbody tr th {\n",
       "        vertical-align: top;\n",
       "    }\n",
       "\n",
       "    .dataframe thead th {\n",
       "        text-align: right;\n",
       "    }\n",
       "</style>\n",
       "<table border=\"1\" class=\"dataframe\">\n",
       "  <thead>\n",
       "    <tr style=\"text-align: right;\">\n",
       "      <th></th>\n",
       "      <th>myint</th>\n",
       "      <th>myfloat</th>\n",
       "      <th>mychar</th>\n",
       "      <th>mydatetime</th>\n",
       "    </tr>\n",
       "  </thead>\n",
       "  <tbody>\n",
       "    <tr>\n",
       "      <th>0</th>\n",
       "      <td>1</td>\n",
       "      <td>1.00</td>\n",
       "      <td>a</td>\n",
       "      <td>2019-01-01 00:00:00</td>\n",
       "    </tr>\n",
       "    <tr>\n",
       "      <th>1</th>\n",
       "      <td>3</td>\n",
       "      <td>2.30</td>\n",
       "      <td>b</td>\n",
       "      <td>2019-01-01 10:00:00</td>\n",
       "    </tr>\n",
       "    <tr>\n",
       "      <th>2</th>\n",
       "      <td>4</td>\n",
       "      <td>3.33</td>\n",
       "      <td>c</td>\n",
       "      <td>2010-01-02 00:00:00</td>\n",
       "    </tr>\n",
       "  </tbody>\n",
       "</table>\n",
       "</div>"
      ],
      "text/plain": [
       "   myint  myfloat mychar          mydatetime\n",
       "0      1     1.00      a 2019-01-01 00:00:00\n",
       "1      3     2.30      b 2019-01-01 10:00:00\n",
       "2      4     3.33      c 2010-01-02 00:00:00"
      ]
     },
     "execution_count": 2,
     "metadata": {},
     "output_type": "execute_result"
    }
   ],
   "source": [
    "import pandas as pd \n",
    "df = pd.read_csv(\"data_valid.csv\", parse_dates=[\"mydatetime\"])\n",
    "df"
   ]
  },
  {
   "cell_type": "markdown",
   "metadata": {},
   "source": [
    "Open the associated metadata"
   ]
  },
  {
   "cell_type": "code",
   "execution_count": 3,
   "metadata": {},
   "outputs": [
    {
     "name": "stdout",
     "output_type": "stream",
     "text": [
      "{\n",
      "    \"columns\": [\n",
      "        {\n",
      "            \"name\": \"myint\",\n",
      "            \"type\": \"int\",\n",
      "            \"description\": \"An integer column\"\n",
      "        },\n",
      "        {\n",
      "            \"name\": \"myfloat\",\n",
      "            \"type\": \"float\",\n",
      "            \"description\": \"A float column\"\n",
      "        },\n",
      "        {\n",
      "            \"name\": \"mychar\",\n",
      "            \"type\": \"character\",\n",
      "            \"description\": \"A character/string column\",\n",
      "            \"enum\": [\n",
      "                \"a\",\n",
      "                \"b\",\n",
      "                \"c\"\n",
      "            ]\n",
      "        },\n",
      "        {\n",
      "            \"name\": \"mydatetime\",\n",
      "            \"type\": \"datetime\",\n",
      "            \"description\": \"A datetime column\"\n",
      "        }\n",
      "    ]\n",
      "}\n"
     ]
    }
   ],
   "source": [
    "import json\n",
    "with open(\"metadata.json\") as f:\n",
    "    meta_data = json.load(f)\n",
    "print(json.dumps(meta_data, indent=4))"
   ]
  },
  {
   "cell_type": "markdown",
   "metadata": {},
   "source": [
    "Use `data_linter` to perform all automated validation checks with `check_all`.  Within Jupyter, it automatically pretty-prints a summary markdown table"
   ]
  },
  {
   "cell_type": "code",
   "execution_count": 4,
   "metadata": {},
   "outputs": [
    {
     "data": {
      "text/markdown": [
       "|    | col_name   | validation_description        | success   |\n",
       "|---:|:-----------|:------------------------------|:----------|\n",
       "|  4 | mychar     | check_column_exists_and_order | ✅        |\n",
       "|  6 | mychar     | check_data_type               | ✅        |\n",
       "|  5 | mychar     | check_enums                   | ✅        |\n",
       "|  7 | mydatetime | check_column_exists_and_order | ✅        |\n",
       "|  8 | mydatetime | check_data_type               | ✅        |\n",
       "|  2 | myfloat    | check_column_exists_and_order | ✅        |\n",
       "|  3 | myfloat    | check_data_type               | ✅        |\n",
       "|  0 | myint      | check_column_exists_and_order | ✅        |\n",
       "|  1 | myint      | check_data_type               | ✅        |"
      ],
      "text/plain": [
       "<data_linter.lint.Linter at 0x7f1e737026a0>"
      ]
     },
     "execution_count": 4,
     "metadata": {},
     "output_type": "execute_result"
    }
   ],
   "source": [
    "l = Linter(df, meta_data)\n",
    "l.check_all()\n",
    "l"
   ]
  },
  {
   "cell_type": "markdown",
   "metadata": {},
   "source": [
    "Create a markdown report.  Note I import from `IPython.display` so this markdown gets rendered properly within the Jupyter notebook"
   ]
  },
  {
   "cell_type": "code",
   "execution_count": 5,
   "metadata": {},
   "outputs": [
    {
     "data": {
      "text/markdown": [
       "# Validation report \n",
       "## Summary\n",
       "👍😎😎😎😎😎👍\n",
       "✅**All tests on your dataset passed**\n",
       "👍😎😎😎😎😎👍\n",
       "\n",
       "## Your data\n",
       "\n",
       "Here's a sample of your data:\n",
       "\n",
       "|   myint |   myfloat | mychar   | mydatetime          |\n",
       "|--------:|----------:|:---------|:--------------------|\n",
       "|       1 |       1   | a        | 2019-01-01 00:00:00 |\n",
       "|       3 |       2.3 | b        | 2019-01-01 10:00:00 |\n",
       "\n",
       "and a summary of your metadata:\n",
       "\n",
       "| myint   | myfloat   | mychar    | mydatetime   |\n",
       "|:--------|:----------|:----------|:-------------|\n",
       "| int     | float     | character | datetime     |\n",
       "\n",
       "### Results for column myint\n",
       "\n",
       "The metadata for this column is: `{\"name\": \"myint\", \"type\": \"int\", \"description\": \"An integer column\"}`.\n",
       "\n",
       "**✅ check_column_exists_and_order was a success**\n",
       "\n",
       "\n",
       "\n",
       "**✅ check_data_type was a success**\n",
       "\n",
       "\n",
       "---\n",
       "### Results for column myfloat\n",
       "\n",
       "The metadata for this column is: `{\"name\": \"myfloat\", \"type\": \"float\", \"description\": \"A float column\"}`.\n",
       "\n",
       "**✅ check_column_exists_and_order was a success**\n",
       "\n",
       "\n",
       "\n",
       "**✅ check_data_type was a success**\n",
       "\n",
       "\n",
       "---\n",
       "### Results for column mychar\n",
       "\n",
       "The metadata for this column is: `{\"name\": \"mychar\", \"type\": \"character\", \"description\": \"A character/string column\", \"enum\": [\"a\", \"b\", \"c\"]}`.\n",
       "\n",
       "**✅ check_column_exists_and_order was a success**\n",
       "\n",
       "\n",
       "\n",
       "**✅ check_enums was a success**\n",
       "\n",
       "**✅ check_data_type was a success**\n",
       "\n",
       "\n",
       "---\n",
       "### Results for column mydatetime\n",
       "\n",
       "The metadata for this column is: `{\"name\": \"mydatetime\", \"type\": \"datetime\", \"description\": \"A datetime column\"}`.\n",
       "\n",
       "**✅ check_column_exists_and_order was a success**\n",
       "\n",
       "\n",
       "\n",
       "**✅ check_data_type was a success**\n",
       "\n",
       "\n",
       "---\n"
      ],
      "text/plain": [
       "<IPython.core.display.Markdown object>"
      ]
     },
     "execution_count": 5,
     "metadata": {},
     "output_type": "execute_result"
    }
   ],
   "source": [
    "from IPython.display import Markdown\n",
    "Markdown(l.markdown_report())"
   ]
  },
  {
   "cell_type": "markdown",
   "metadata": {},
   "source": [
    "## Create validation report for invalid data"
   ]
  },
  {
   "cell_type": "markdown",
   "metadata": {},
   "source": [
    "Perform the same steps for an invalid dataset.  Note that `mychar` contains value `d` which is not in the `enum` options in the meta data"
   ]
  },
  {
   "cell_type": "code",
   "execution_count": 6,
   "metadata": {},
   "outputs": [
    {
     "data": {
      "text/html": [
       "<div>\n",
       "<style scoped>\n",
       "    .dataframe tbody tr th:only-of-type {\n",
       "        vertical-align: middle;\n",
       "    }\n",
       "\n",
       "    .dataframe tbody tr th {\n",
       "        vertical-align: top;\n",
       "    }\n",
       "\n",
       "    .dataframe thead th {\n",
       "        text-align: right;\n",
       "    }\n",
       "</style>\n",
       "<table border=\"1\" class=\"dataframe\">\n",
       "  <thead>\n",
       "    <tr style=\"text-align: right;\">\n",
       "      <th></th>\n",
       "      <th>myint</th>\n",
       "      <th>mychar</th>\n",
       "      <th>mydatetime</th>\n",
       "    </tr>\n",
       "  </thead>\n",
       "  <tbody>\n",
       "    <tr>\n",
       "      <th>0</th>\n",
       "      <td>1.0</td>\n",
       "      <td>a</td>\n",
       "      <td>2019-01-01 00:00:00</td>\n",
       "    </tr>\n",
       "    <tr>\n",
       "      <th>1</th>\n",
       "      <td>3.0</td>\n",
       "      <td>b</td>\n",
       "      <td>2019-01-01 10:00:00</td>\n",
       "    </tr>\n",
       "    <tr>\n",
       "      <th>2</th>\n",
       "      <td>4.1</td>\n",
       "      <td>d</td>\n",
       "      <td>2010-01-02 00:00:00</td>\n",
       "    </tr>\n",
       "  </tbody>\n",
       "</table>\n",
       "</div>"
      ],
      "text/plain": [
       "   myint mychar          mydatetime\n",
       "0    1.0      a 2019-01-01 00:00:00\n",
       "1    3.0      b 2019-01-01 10:00:00\n",
       "2    4.1      d 2010-01-02 00:00:00"
      ]
     },
     "execution_count": 6,
     "metadata": {},
     "output_type": "execute_result"
    }
   ],
   "source": [
    "invalid_df = pd.read_csv(\"data_invalid.csv\", parse_dates=[\"mydatetime\"])\n",
    "invalid_df"
   ]
  },
  {
   "cell_type": "code",
   "execution_count": 7,
   "metadata": {},
   "outputs": [
    {
     "data": {
      "text/markdown": [
       "# Validation report \n",
       "## Summary\n",
       "🔥🔥🔥🔥🔥🔥🔥\n",
       "❌**Some tests failed, see below for details**\n",
       "🔥🔥🔥🔥🔥🔥🔥\n",
       "\n",
       "## Your data\n",
       "\n",
       "Here's a sample of your data:\n",
       "\n",
       "|   myint | mychar   | mydatetime          |\n",
       "|--------:|:---------|:--------------------|\n",
       "|       1 | a        | 2019-01-01 00:00:00 |\n",
       "|       3 | b        | 2019-01-01 10:00:00 |\n",
       "\n",
       "and a summary of your metadata:\n",
       "\n",
       "| myint   | myfloat   | mychar    | mydatetime   |\n",
       "|:--------|:----------|:----------|:-------------|\n",
       "| int     | float     | character | datetime     |\n",
       "\n",
       "### Results for column myint\n",
       "\n",
       "The metadata for this column is: `{\"name\": \"myint\", \"type\": \"int\", \"description\": \"An integer column\"}`.\n",
       "\n",
       "**✅ check_column_exists_and_order was a success**\n",
       "\n",
       "\n",
       "\n",
       "**✅ check_data_type was a success**\n",
       "\n",
       "\n",
       "---\n",
       "### Results for column myfloat\n",
       "\n",
       "The metadata for this column is: `{\"name\": \"myfloat\", \"type\": \"float\", \"description\": \"A float column\"}`.\n",
       "\n",
       "**❌ check_column_exists_and_order was a failure**\n",
       "\n",
       "\n",
       "Column does not exist in input data.\n",
       "\n",
       "---\n",
       "### Results for column mychar\n",
       "\n",
       "The metadata for this column is: `{\"name\": \"mychar\", \"type\": \"character\", \"description\": \"A character/string column\", \"enum\": [\"a\", \"b\", \"c\"]}`.\n",
       "\n",
       "**❌ check_column_exists_and_order was a failure**\n",
       "\n",
       "\n",
       "Column exists but is in position 2 rather than the expected position 3.\n",
       "\n",
       "**❌ check_enums was a failure**\n",
       "Here's a sample of some rows which failed:\n",
       "\n",
       "|   index |   myint | mychar   | mydatetime          |\n",
       "|--------:|--------:|:---------|:--------------------|\n",
       "|       2 |       4 | d        | 2010-01-02 00:00:00 |\n",
       "\n",
       "**✅ check_data_type was a success**\n",
       "\n",
       "\n",
       "---\n",
       "### Results for column mydatetime\n",
       "\n",
       "The metadata for this column is: `{\"name\": \"mydatetime\", \"type\": \"datetime\", \"description\": \"A datetime column\"}`.\n",
       "\n",
       "**❌ check_column_exists_and_order was a failure**\n",
       "\n",
       "\n",
       "Column exists but is in position 3 rather than the expected position 4.\n",
       "\n",
       "**✅ check_data_type was a success**\n",
       "\n",
       "\n",
       "---\n"
      ],
      "text/plain": [
       "<IPython.core.display.Markdown object>"
      ]
     },
     "execution_count": 7,
     "metadata": {},
     "output_type": "execute_result"
    }
   ],
   "source": [
    "l = Linter(invalid_df, meta_data)\n",
    "l.check_all()\n",
    "Markdown(l.markdown_report())"
   ]
  },
  {
   "cell_type": "markdown",
   "metadata": {},
   "source": [
    "## Auto-generate some draft metadata from a dataset"
   ]
  },
  {
   "cell_type": "markdown",
   "metadata": {},
   "source": [
    "We're going to generate metadata for the following dataset"
   ]
  },
  {
   "cell_type": "code",
   "execution_count": 8,
   "metadata": {},
   "outputs": [
    {
     "data": {
      "text/html": [
       "<div>\n",
       "<style scoped>\n",
       "    .dataframe tbody tr th:only-of-type {\n",
       "        vertical-align: middle;\n",
       "    }\n",
       "\n",
       "    .dataframe tbody tr th {\n",
       "        vertical-align: top;\n",
       "    }\n",
       "\n",
       "    .dataframe thead th {\n",
       "        text-align: right;\n",
       "    }\n",
       "</style>\n",
       "<table border=\"1\" class=\"dataframe\">\n",
       "  <thead>\n",
       "    <tr style=\"text-align: right;\">\n",
       "      <th></th>\n",
       "      <th>myint</th>\n",
       "      <th>myfloat</th>\n",
       "      <th>mychar</th>\n",
       "      <th>mydatetime</th>\n",
       "    </tr>\n",
       "  </thead>\n",
       "  <tbody>\n",
       "    <tr>\n",
       "      <th>0</th>\n",
       "      <td>1</td>\n",
       "      <td>1.00</td>\n",
       "      <td>a</td>\n",
       "      <td>2019-01-01 00:00:00</td>\n",
       "    </tr>\n",
       "    <tr>\n",
       "      <th>1</th>\n",
       "      <td>3</td>\n",
       "      <td>2.30</td>\n",
       "      <td>b</td>\n",
       "      <td>2019-01-01 10:00:00</td>\n",
       "    </tr>\n",
       "    <tr>\n",
       "      <th>2</th>\n",
       "      <td>4</td>\n",
       "      <td>3.33</td>\n",
       "      <td>c</td>\n",
       "      <td>2010-01-02 00:00:00</td>\n",
       "    </tr>\n",
       "  </tbody>\n",
       "</table>\n",
       "</div>"
      ],
      "text/plain": [
       "   myint  myfloat mychar          mydatetime\n",
       "0      1     1.00      a 2019-01-01 00:00:00\n",
       "1      3     2.30      b 2019-01-01 10:00:00\n",
       "2      4     3.33      c 2010-01-02 00:00:00"
      ]
     },
     "execution_count": 8,
     "metadata": {},
     "output_type": "execute_result"
    }
   ],
   "source": [
    "df"
   ]
  },
  {
   "cell_type": "code",
   "execution_count": 9,
   "metadata": {},
   "outputs": [
    {
     "name": "stdout",
     "output_type": "stream",
     "text": [
      "{\n",
      "    \"columns\": [\n",
      "        {\n",
      "            \"name\": \"myint\",\n",
      "            \"description\": \"\",\n",
      "            \"type\": \"int\"\n",
      "        },\n",
      "        {\n",
      "            \"name\": \"myfloat\",\n",
      "            \"description\": \"\",\n",
      "            \"type\": \"float\"\n",
      "        },\n",
      "        {\n",
      "            \"name\": \"mychar\",\n",
      "            \"description\": \"\",\n",
      "            \"type\": \"character\"\n",
      "        },\n",
      "        {\n",
      "            \"name\": \"mydatetime\",\n",
      "            \"description\": \"\",\n",
      "            \"type\": \"datetime\"\n",
      "        }\n",
      "    ]\n",
      "}\n"
     ]
    }
   ],
   "source": [
    "from data_linter.generate_meta_data import generate_from_pd_df\n",
    "generated_metadata = generate_from_pd_df(df)\n",
    "print(json.dumps(generated_metadata, indent=4))"
   ]
  }
 ],
 "metadata": {
  "kernelspec": {
   "display_name": "data_linter_demo",
   "language": "python",
   "name": "data_linter_demo"
  },
  "language_info": {
   "codemirror_mode": {
    "name": "ipython",
    "version": 3
   },
   "file_extension": ".py",
   "mimetype": "text/x-python",
   "name": "python",
   "nbconvert_exporter": "python",
   "pygments_lexer": "ipython3",
   "version": "3.7.3"
  }
 },
 "nbformat": 4,
 "nbformat_minor": 2
}
